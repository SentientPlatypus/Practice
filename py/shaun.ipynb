{
 "cells": [
  {
   "cell_type": "code",
   "execution_count": 21,
   "metadata": {},
   "outputs": [],
   "source": [
    "import math\n"
   ]
  },
  {
   "cell_type": "code",
   "execution_count": 22,
   "metadata": {},
   "outputs": [],
   "source": [
    "def factorial(n):\n",
    "    if n == 0:\n",
    "        return 1\n",
    "    prod = 1\n",
    "    while n > 0:\n",
    "        prod *= n\n",
    "        n -= 1\n",
    "    return prod"
   ]
  },
  {
   "cell_type": "code",
   "execution_count": 23,
   "metadata": {},
   "outputs": [
    {
     "name": "stdout",
     "output_type": "stream",
     "text": [
      "1.6448340618480652\n",
      "3.1414971543976273\n"
     ]
    }
   ],
   "source": [
    "sum = 0\n",
    "for i in range(1, 10000):\n",
    "    sum += 1/(i**2)\n",
    "print(sum)\n",
    "\n",
    "print(math.sqrt(6 * sum))"
   ]
  },
  {
   "cell_type": "code",
   "execution_count": 24,
   "metadata": {},
   "outputs": [
    {
     "name": "stdout",
     "output_type": "stream",
     "text": [
      "0.6936474305598223\n"
     ]
    }
   ],
   "source": [
    "sum = 0\n",
    "for i in range(1, 1000):\n",
    "    sum += ((-1)**(i + 1))/i\n",
    "print(sum)"
   ]
  },
  {
   "cell_type": "code",
   "execution_count": 31,
   "metadata": {},
   "outputs": [
    {
     "name": "stdout",
     "output_type": "stream",
     "text": [
      "2.000985881791012\n"
     ]
    }
   ],
   "source": [
    "\n",
    "print(math.exp(.69364))"
   ]
  },
  {
   "cell_type": "code",
   "execution_count": 26,
   "metadata": {},
   "outputs": [
    {
     "name": "stdout",
     "output_type": "stream",
     "text": [
      "-0.6321205588285578\n",
      "-1.5819767068693262\n"
     ]
    }
   ],
   "source": [
    "sum = 0\n",
    "for i in range(1, 1000):\n",
    "    sum += ((-1)**i) / factorial(i) \n",
    "print(sum)\n",
    "print(1/sum)"
   ]
  },
  {
   "cell_type": "code",
   "execution_count": null,
   "metadata": {},
   "outputs": [],
   "source": []
  }
 ],
 "metadata": {
  "kernelspec": {
   "display_name": "Python 3",
   "language": "python",
   "name": "python3"
  },
  "language_info": {
   "codemirror_mode": {
    "name": "ipython",
    "version": 3
   },
   "file_extension": ".py",
   "mimetype": "text/x-python",
   "name": "python",
   "nbconvert_exporter": "python",
   "pygments_lexer": "ipython3",
   "version": "3.9.5"
  },
  "orig_nbformat": 4
 },
 "nbformat": 4,
 "nbformat_minor": 2
}
